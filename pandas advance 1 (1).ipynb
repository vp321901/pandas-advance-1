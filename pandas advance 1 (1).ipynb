{
 "cells": [
  {
   "cell_type": "code",
   "execution_count": 1,
   "id": "dda71701-075e-46cc-894e-8c94cfd3d083",
   "metadata": {},
   "outputs": [],
   "source": [
    "                  #ANSWER:1"
   ]
  },
  {
   "cell_type": "code",
   "execution_count": 1,
   "id": "7a31bcdc-553f-4023-a40c-b34262bab063",
   "metadata": {},
   "outputs": [],
   "source": [
    "#Certainly! Here are five common functions of the pandas library along with their execution:\n",
    "\n",
    "#1. **`read_csv()`**:\n",
    "#   - **Usage**: This function is used to read data from a CSV file into a DataFrame.\n",
    "#   - **Execution**:\n",
    "   \n",
    "import pandas as pd\n",
    "df = pd.read_csv('data.csv')  # Assuming there's a file named data.csv\n",
    "    \n",
    "\n",
    "#2. **`head()`**:\n",
    "#   - **Usage**: Returns the first n rows of a DataFrame. It's useful to quickly inspect the data.\n",
    "#   - **Execution**:\n",
    "   \n",
    "print(df.head())  # Prints the first 5 rows by default\n",
    "    \n",
    "\n",
    "#3. **`groupby()`**:\n",
    "#   - **Usage**: Groups the DataFrame using a mapper or by a Series of columns, and then applies a function to each group independently.\n",
    "#   - **Execution**:\n",
    "     \n",
    "grouped_data = df.groupby('Duration')['Pulse'].sum()  \n",
    "     \n",
    "\n",
    "#4. **`fillna()`**:\n",
    "#   - **Usage**: Fill missing values in a DataFrame.\n",
    "#   - **Execution**:\n",
    "     \n",
    "df['Maxpulse'].fillna(df['Maxpulse'].mean(), inplace=True)  # Fill missing age values with the mean age\n",
    "    \n",
    "\n",
    "#5. **`sort_values()`**:\n",
    "#   - **Usage**: Sorts a DataFrame or a Series by the specified column(s).\n",
    "#   - **Execution**:\n",
    "    \n",
    "df_sorted = df.sort_values(by='Calories', ascending=False)  # Sort by 'Column_Name' in descending order\n",
    "     \n",
    "\n",
    "\n",
    "#These are just a few examples, and there are many more functions available in the pandas library for various data manipulation and analysis tasks"
   ]
  },
  {
   "cell_type": "code",
   "execution_count": 11,
   "id": "1d16bca7-999e-4879-ae19-aaafdb76ee05",
   "metadata": {},
   "outputs": [],
   "source": [
    "       #answer:2"
   ]
  },
  {
   "cell_type": "code",
   "execution_count": 9,
   "id": "7e8d46fe-fc1f-4a29-8ffe-7becc9c5633e",
   "metadata": {},
   "outputs": [
    {
     "name": "stdout",
     "output_type": "stream",
     "text": [
      "   New_Index  A  B  C\n",
      "0          1  1  5  9\n",
      "1          3  2  6  1\n",
      "2          5  3  7  2\n",
      "3          7  4  8  3\n"
     ]
    }
   ],
   "source": [
    "import pandas as pd\n",
    "\n",
    "# Assume df is your DataFrame with columns 'A', 'B', and 'C'\n",
    "df  = pd.DataFrame({'A':[1,2,3,4],\n",
    "                   'B':[5,6,7,8],\n",
    "                   'C':[9,1,2,3]})\n",
    "\n",
    "def reindex_with_custom_index(df):\n",
    "    new_index = pd.Series(range(1, len(df) * 2, 2))  # Create a new index starting from 1 and incrementing by 2\n",
    "    df = df.reset_index(drop=True)  # Reset the existing index\n",
    "    df.insert(0, 'New_Index', new_index)  # Insert the new index as the first column\n",
    "    return df\n",
    "\n",
    "# Usage\n",
    "new_df = reindex_with_custom_index(df)\n",
    "print(new_df)"
   ]
  },
  {
   "cell_type": "code",
   "execution_count": 5,
   "id": "5ca05563-8c42-4ff6-ae3e-16d42b2cebae",
   "metadata": {},
   "outputs": [],
   "source": [
    "                  #ANSWER:3"
   ]
  },
  {
   "cell_type": "code",
   "execution_count": 18,
   "id": "d395993f-69c4-4ace-bd80-7723df09486b",
   "metadata": {},
   "outputs": [
    {
     "name": "stdout",
     "output_type": "stream",
     "text": [
      "60\n"
     ]
    }
   ],
   "source": [
    "import pandas as pd\n",
    "\n",
    "def calculate_sum_of_first_three(df):\n",
    "    # Access the first three values in the 'Values' column\n",
    "    first_three_values = df['Values'].iloc[:3]\n",
    "\n",
    "    # Calculate the sum\n",
    "    total_sum = first_three_values.sum()\n",
    "\n",
    "    # Print the sum to the console\n",
    "    print(total_sum)\n",
    "df = pd.DataFrame({'Values': [10, 20, 30, 40, 50]})    \n",
    "calculate_sum_of_first_three(df)"
   ]
  },
  {
   "cell_type": "code",
   "execution_count": null,
   "id": "34b147ac-26fc-4e04-b9ae-c2d35cda7541",
   "metadata": {},
   "outputs": [],
   "source": [
    "               #ANSWER:4"
   ]
  },
  {
   "cell_type": "code",
   "execution_count": 19,
   "id": "4f59b81e-c060-4661-a158-0e7363ba682b",
   "metadata": {},
   "outputs": [
    {
     "name": "stdout",
     "output_type": "stream",
     "text": [
      "                Text  Word_Count\n",
      "0        Hello world           2\n",
      "1     This is a test           4\n",
      "2  OpenAI is awesome           3\n"
     ]
    }
   ],
   "source": [
    "import pandas as pd\n",
    "\n",
    "def count_words(text):\n",
    "    return len(text.split())\n",
    "\n",
    "def add_word_count_column(df):\n",
    "    df['Word_Count'] = df['Text'].apply(count_words)\n",
    "    return df\n",
    "\n",
    "# Assuming df is your DataFrame\n",
    "# Example usage\n",
    "df = pd.DataFrame({'Text': ['Hello world', 'This is a test', 'OpenAI is awesome']})\n",
    "\n",
    "# Apply the function to add the 'Word_Count' column\n",
    "df = add_word_count_column(df)\n",
    "\n",
    "# Print the modified DataFrame\n",
    "print(df)\n"
   ]
  },
  {
   "cell_type": "code",
   "execution_count": 20,
   "id": "ef6a3c7a-fff2-4039-a9bb-a20849e2e34e",
   "metadata": {},
   "outputs": [],
   "source": [
    "                #ANSWER:5"
   ]
  },
  {
   "cell_type": "code",
   "execution_count": 21,
   "id": "19ecb7e5-bf4c-4f75-ab33-eb68cd49fdb4",
   "metadata": {},
   "outputs": [
    {
     "name": "stdout",
     "output_type": "stream",
     "text": [
      "9\n",
      "(3, 3)\n"
     ]
    }
   ],
   "source": [
    "\"\"\"`DataFrame.size` and `DataFrame.shape` are both attributes of a Pandas DataFrame, but they provide different information about the DataFrame:\"\"\"\n",
    "\n",
    "\"\"\"1. **`DataFrame.size`**:\n",
    "\n",
    "   - `DataFrame.size` returns the total number of elements (cells) in the DataFrame.\n",
    "   - It is calculated by multiplying the number of rows by the number of columns.\n",
    "   - For example, if you have a DataFrame with 5 rows and 3 columns, `df.size` will return 15.\"\"\"\n",
    "\n",
    "  \n",
    "import pandas as pd\n",
    "\n",
    "   # Create a DataFrame\n",
    "df = pd.DataFrame({'A': [1, 2, 3], 'B': [4, 5, 6], 'C': [7, 8, 9]})\n",
    "   \n",
    "print(df.size)  \n",
    "  \n",
    "\n",
    "\"\"\"2. **`DataFrame.shape`**:\n",
    "\n",
    "   - `DataFrame.shape` returns a tuple representing the dimensions of the DataFrame.\n",
    "   - The tuple contains two elements: the number of rows and the number of columns, respectively.\n",
    "   - For example, if you have a DataFrame with 5 rows and 3 columns, `df.shape` will return `(5, 3)`.\"\"\"\n",
    "\n",
    "   \n",
    "import pandas as pd\n",
    "\n",
    "   # Create a DataFrame\n",
    "df = pd.DataFrame({'A': [1, 2, 3], 'B': [4, 5, 6], 'C': [7, 8, 9]})\n",
    "   \n",
    "print(df.shape) \n"
   ]
  },
  {
   "cell_type": "code",
   "execution_count": 22,
   "id": "4b949b8e-84c2-4a84-8975-ede25dcc5655",
   "metadata": {},
   "outputs": [],
   "source": [
    "                  #ANSWER:6"
   ]
  },
  {
   "cell_type": "code",
   "execution_count": 23,
   "id": "501a6950-c6e1-4051-b1d5-5a8c72caf8d6",
   "metadata": {},
   "outputs": [
    {
     "data": {
      "text/plain": [
       "'To read an Excel file in pandas, you can use the pandas.read_excel() function. \\nThis function allows you to read data from an Excel file and store it as a pandas DataFrame.'"
      ]
     },
     "execution_count": 23,
     "metadata": {},
     "output_type": "execute_result"
    }
   ],
   "source": [
    "\"\"\"To read an Excel file in pandas, you can use the pandas.read_excel() function. \n",
    "This function allows you to read data from an Excel file and store it as a pandas DataFrame.\"\"\""
   ]
  },
  {
   "cell_type": "code",
   "execution_count": 24,
   "id": "f646f98e-9f03-4066-9103-fae7a1a1d30b",
   "metadata": {},
   "outputs": [],
   "source": [
    "                 #ANSWER:7"
   ]
  },
  {
   "cell_type": "code",
   "execution_count": 25,
   "id": "57aff7a5-659b-4528-85fc-a579c23ffd0a",
   "metadata": {},
   "outputs": [
    {
     "name": "stdout",
     "output_type": "stream",
     "text": [
      "                  Email  Username\n",
      "0  john.doe@example.com  john.doe\n",
      "1  jane.doe@example.com  jane.doe\n"
     ]
    }
   ],
   "source": [
    "import pandas as pd\n",
    "\n",
    "def extract_username_from_email(df):\n",
    "    # Use str.split() to split the email addresses into username and domain\n",
    "    df['Username'] = df['Email'].str.split('@').str[0]\n",
    "    return df\n",
    "\n",
    "# Example usage\n",
    "df = pd.DataFrame({'Email': ['john.doe@example.com', 'jane.doe@example.com']})\n",
    "\n",
    "# Apply the function to add the 'Username' column\n",
    "df = extract_username_from_email(df)\n",
    "\n",
    "# Print the modified DataFrame\n",
    "print(df)\n"
   ]
  },
  {
   "cell_type": "code",
   "execution_count": 26,
   "id": "af75a4a1-1f73-47c6-aeb9-a2733b81e38a",
   "metadata": {},
   "outputs": [],
   "source": [
    "                        #ANSWER:8"
   ]
  },
  {
   "cell_type": "code",
   "execution_count": 27,
   "id": "8aaa8bed-1b12-48ab-8a57-247eab5d46d0",
   "metadata": {},
   "outputs": [
    {
     "name": "stdout",
     "output_type": "stream",
     "text": [
      "   A  B  C\n",
      "1  8  2  7\n",
      "2  6  9  4\n",
      "4  9  1  2\n"
     ]
    }
   ],
   "source": [
    "import pandas as pd\n",
    "\n",
    "def select_rows(df):\n",
    "    # Use boolean indexing to select rows\n",
    "    selected_rows = df[(df['A'] > 5) & (df['B'] < 10)]\n",
    "    return selected_rows\n",
    "\n",
    "# Example usage\n",
    "df = pd.DataFrame({'A': [3, 8, 6, 2, 9], 'B': [5, 2, 9, 3, 1], 'C': [1, 7, 4, 5, 2]})\n",
    "\n",
    "# Call the function to select rows\n",
    "selected_df = select_rows(df)\n",
    "\n",
    "# Print the selected DataFrame\n",
    "print(selected_df)\n"
   ]
  },
  {
   "cell_type": "code",
   "execution_count": 28,
   "id": "5b9370c1-6bda-40ca-8b36-7273c50c6c37",
   "metadata": {},
   "outputs": [],
   "source": [
    "                #ANSWER:9"
   ]
  },
  {
   "cell_type": "code",
   "execution_count": 29,
   "id": "e3287492-ce4a-483e-a606-4697bb7a83f7",
   "metadata": {},
   "outputs": [
    {
     "name": "stdout",
     "output_type": "stream",
     "text": [
      "Mean: 30.0\n",
      "Median: 30.0\n",
      "Standard Deviation: 15.811388300841896\n"
     ]
    }
   ],
   "source": [
    "import pandas as pd\n",
    "\n",
    "def calculate_stats(df):\n",
    "    # Calculate mean, median, and standard deviation\n",
    "    mean_value = df['Values'].mean()\n",
    "    median_value = df['Values'].median()\n",
    "    std_deviation = df['Values'].std()\n",
    "    \n",
    "    return mean_value, median_value, std_deviation\n",
    "\n",
    "# Example usage\n",
    "df = pd.DataFrame({'Values': [10, 20, 30, 40, 50]})\n",
    "\n",
    "# Call the function to calculate statistics\n",
    "mean, median, std_dev = calculate_stats(df)\n",
    "\n",
    "# Print the results\n",
    "print(f\"Mean: {mean}\")\n",
    "print(f\"Median: {median}\")\n",
    "print(f\"Standard Deviation: {std_dev}\")\n"
   ]
  },
  {
   "cell_type": "code",
   "execution_count": 30,
   "id": "432c2fe6-df7f-4cb3-bc42-ed805a2821fa",
   "metadata": {},
   "outputs": [],
   "source": [
    "                  #ANSWER:10"
   ]
  },
  {
   "cell_type": "code",
   "execution_count": 31,
   "id": "ad42e688-f676-4723-8f83-f5e6e2c5c6f0",
   "metadata": {},
   "outputs": [
    {
     "name": "stdout",
     "output_type": "stream",
     "text": [
      "        Date  Sales  MovingAverage\n",
      "0 2023-10-01    100     100.000000\n",
      "1 2023-10-02    120     110.000000\n",
      "2 2023-10-03    150     123.333333\n",
      "3 2023-10-04    130     125.000000\n",
      "4 2023-10-05    110     122.000000\n",
      "5 2023-10-06     90     116.666667\n",
      "6 2023-10-07    120     117.142857\n",
      "7 2023-10-08    130     121.428571\n"
     ]
    }
   ],
   "source": [
    "import pandas as pd\n",
    "\n",
    "def calculate_moving_average(df):\n",
    "    # Sort DataFrame by date\n",
    "    df['Date'] = pd.to_datetime(df['Date'])\n",
    "    df = df.sort_values('Date')\n",
    "\n",
    "    # Calculate the moving average\n",
    "    df['MovingAverage'] = df['Sales'].rolling(window=7, min_periods=1).mean()\n",
    "    return df\n",
    "\n",
    "# Example usage\n",
    "df = pd.DataFrame({\n",
    "    'Date': ['2023-10-01', '2023-10-02', '2023-10-03', '2023-10-04', '2023-10-05', '2023-10-06', '2023-10-07', '2023-10-08'],\n",
    "    'Sales': [100, 120, 150, 130, 110, 90, 120, 130]\n",
    "})\n",
    "\n",
    "# Call the function to calculate moving average\n",
    "df = calculate_moving_average(df)\n",
    "\n",
    "# Print the modified DataFrame\n",
    "print(df)\n"
   ]
  },
  {
   "cell_type": "code",
   "execution_count": 32,
   "id": "d96be061-9bfa-427e-9456-341088208eca",
   "metadata": {},
   "outputs": [],
   "source": [
    "            #ANSWER:11"
   ]
  },
  {
   "cell_type": "code",
   "execution_count": 33,
   "id": "e9920e13-0a48-4d60-bf24-1c1867b8227c",
   "metadata": {},
   "outputs": [],
   "source": [
    "import pandas as pd\n",
    "\n",
    "def add_weekday_column(df):\n",
    "    # Convert 'Date' column to datetime format\n",
    "    df['Date'] = pd.to_datetime(df['Date'])\n",
    "    \n",
    "    # Extract weekday name and create a new column 'Weekday'\n",
    "    df['Weekday'] = df['Date'].dt.strftime('%A')\n",
    "    \n",
    "    return df\n"
   ]
  },
  {
   "cell_type": "code",
   "execution_count": 34,
   "id": "e861e6b5-7ecd-45a3-a20c-3ad7a0bf822f",
   "metadata": {},
   "outputs": [
    {
     "name": "stdout",
     "output_type": "stream",
     "text": [
      "        Date    Weekday\n",
      "0 2023-01-01     Sunday\n",
      "1 2023-01-02     Monday\n",
      "2 2023-01-03    Tuesday\n",
      "3 2023-01-04  Wednesday\n",
      "4 2023-01-05   Thursday\n"
     ]
    }
   ],
   "source": [
    "import pandas as pd\n",
    "\n",
    "# Assuming df is your DataFrame\n",
    "df = pd.DataFrame({'Date': ['2023-01-01', '2023-01-02', '2023-01-03', '2023-01-04', '2023-01-05']})\n",
    "\n",
    "# Call the function\n",
    "df = add_weekday_column(df)\n",
    "\n",
    "print(df)\n"
   ]
  },
  {
   "cell_type": "code",
   "execution_count": 35,
   "id": "0b171635-162f-44c3-b6c2-f49e9178c6fa",
   "metadata": {},
   "outputs": [],
   "source": [
    "                    #ANSWER:12\n"
   ]
  },
  {
   "cell_type": "code",
   "execution_count": 36,
   "id": "1bf4631c-062e-469e-82ae-9069ad17ebc7",
   "metadata": {},
   "outputs": [],
   "source": [
    "import pandas as pd\n",
    "\n",
    "def select_dates_between(df):\n",
    "    # Convert 'Date' column to datetime format\n",
    "    df['Date'] = pd.to_datetime(df['Date'])\n",
    "    \n",
    "    # Define the date range\n",
    "    start_date = '2023-01-01'\n",
    "    end_date = '2023-01-31'\n",
    "    \n",
    "    # Use boolean indexing to filter rows\n",
    "    selected_rows = df[(df['Date'] >= start_date) & (df['Date'] <= end_date)]\n",
    "    \n",
    "    return selected_rows\n"
   ]
  },
  {
   "cell_type": "code",
   "execution_count": 37,
   "id": "9b14d096-20d5-4bff-8ba7-15156d70ca8f",
   "metadata": {},
   "outputs": [
    {
     "name": "stdout",
     "output_type": "stream",
     "text": [
      "        Date\n",
      "0 2023-01-01\n",
      "1 2023-01-15\n",
      "3 2023-01-20\n"
     ]
    }
   ],
   "source": [
    "import pandas as pd\n",
    "\n",
    "# Assuming df is your DataFrame\n",
    "df = pd.DataFrame({'Date': ['2023-01-01', '2023-01-15', '2023-02-05', '2023-01-20']})\n",
    "\n",
    "# Call the function\n",
    "selected_df = select_dates_between(df)\n",
    "\n",
    "print(selected_df)\n"
   ]
  },
  {
   "cell_type": "code",
   "execution_count": 38,
   "id": "9b271b51-e42a-4af4-8fb5-633b582e1d53",
   "metadata": {},
   "outputs": [],
   "source": [
    "          #ANSWER:13"
   ]
  },
  {
   "cell_type": "code",
   "execution_count": 39,
   "id": "aab3beda-2d35-4332-947a-a30accd5fab4",
   "metadata": {},
   "outputs": [],
   "source": [
    "#To use the basic functions of pandas, the first and foremost necessary library that needs to be imported is \"pandas\" itself.\n",
    "#It is the core library for data manipulation and analysis in Python"
   ]
  },
  {
   "cell_type": "code",
   "execution_count": null,
   "id": "3897b4eb-0d9f-49cd-9e97-fb9bee1d4223",
   "metadata": {},
   "outputs": [],
   "source": []
  }
 ],
 "metadata": {
  "kernelspec": {
   "display_name": "Python 3 (ipykernel)",
   "language": "python",
   "name": "python3"
  },
  "language_info": {
   "codemirror_mode": {
    "name": "ipython",
    "version": 3
   },
   "file_extension": ".py",
   "mimetype": "text/x-python",
   "name": "python",
   "nbconvert_exporter": "python",
   "pygments_lexer": "ipython3",
   "version": "3.10.8"
  }
 },
 "nbformat": 4,
 "nbformat_minor": 5
}
